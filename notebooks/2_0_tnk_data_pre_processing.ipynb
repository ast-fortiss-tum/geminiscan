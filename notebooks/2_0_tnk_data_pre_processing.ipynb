{
  "cells": [
    {
      "cell_type": "markdown",
      "metadata": {
        "id": "_TBCagzgaCxG"
      },
      "source": [
        "# Mount Google Drive"
      ]
    },
    {
      "cell_type": "code",
      "execution_count": null,
      "metadata": {
        "id": "uulnUpbPapvF"
      },
      "outputs": [],
      "source": [
        "import os\n",
        "\n",
        "def list_folder_tree(startpath=None, max_files_per_dir=None):\n",
        "    if startpath is None:\n",
        "        startpath = os.getcwd()  # Set default to current working directory\n",
        "\n",
        "    tree = []\n",
        "    for root, dirs, files in os.walk(startpath):\n",
        "        level = root.replace(startpath, '').count(os.sep)\n",
        "        indent = ' ' * 4 * (level)\n",
        "        tree.append(f\"{indent}{os.path.basename(root)}/\")\n",
        "        subindent = ' ' * 4 * (level + 1)\n",
        "\n",
        "        # Apply the file listing limit\n",
        "        files_to_show = files if max_files_per_dir is None else files[:max_files_per_dir]\n",
        "        for f in files_to_show:\n",
        "            tree.append(f\"{subindent}{f}\")\n",
        "\n",
        "        # Optionally show a message if there are more files than the max_files_per_dir\n",
        "        if max_files_per_dir is not None and len(files) > max_files_per_dir:\n",
        "            tree.append(f\"{subindent}...and {len(files) - max_files_per_dir} more files\")\n",
        "\n",
        "    return \"\\n\".join(tree)"
      ]
    },
    {
      "cell_type": "code",
      "execution_count": null,
      "metadata": {
        "colab": {
          "base_uri": "https://localhost:8080/"
        },
        "id": "rKLOyu8y_I1q",
        "outputId": "24532974-8b28-4245-8f52-30b1d99ad704"
      },
      "outputs": [
        {
          "output_type": "stream",
          "name": "stdout",
          "text": [
            "Mounted at /content/gdrive\n"
          ]
        }
      ],
      "source": [
        "from google.colab import drive\n",
        "import os\n",
        "\n",
        "gdrive_path='/content/gdrive/MyDrive/SWQ'\n",
        "\n",
        "# This will mount your google drive under 'MyDrive'\n",
        "drive.mount('/content/gdrive')\n",
        "# In order to access the files in this notebook we have to navigate to the correct folder\n",
        "os.chdir(gdrive_path)\n",
        "# Check manually if all files are present\n",
        "#print(list_folder_tree(max_files_per_dir=0))"
      ]
    },
    {
      "cell_type": "markdown",
      "metadata": {
        "id": "3_zJyJHFcPH-"
      },
      "source": [
        "# Imports"
      ]
    },
    {
      "cell_type": "code",
      "execution_count": null,
      "metadata": {
        "id": "AIYZ-7DrcWRA"
      },
      "outputs": [],
      "source": [
        "from PIL import Image, ImageDraw\n",
        "from IPython.display import display\n",
        "import requests\n",
        "import time\n",
        "import base64\n",
        "\n",
        "import pandas as pd\n",
        "\n",
        "from tqdm import tqdm\n",
        "\n",
        "%load_ext autoreload\n",
        "%autoreload 2\n",
        "%matplotlib inline"
      ]
    },
    {
      "cell_type": "code",
      "execution_count": null,
      "metadata": {
        "colab": {
          "base_uri": "https://localhost:8080/"
        },
        "id": "zzFDaY3qcSRb",
        "outputId": "6e423c75-0ce8-4cf8-c584-891fa12839f6"
      },
      "outputs": [
        {
          "output_type": "stream",
          "name": "stdout",
          "text": [
            "Get:1 https://cloud.r-project.org/bin/linux/ubuntu jammy-cran40/ InRelease [3,626 B]\n",
            "Get:2 https://developer.download.nvidia.com/compute/cuda/repos/ubuntu2204/x86_64  InRelease [1,581 B]\n",
            "Get:3 http://security.ubuntu.com/ubuntu jammy-security InRelease [129 kB]\n",
            "Get:4 https://developer.download.nvidia.com/compute/cuda/repos/ubuntu2204/x86_64  Packages [973 kB]\n",
            "Hit:5 http://archive.ubuntu.com/ubuntu jammy InRelease\n",
            "Get:6 http://archive.ubuntu.com/ubuntu jammy-updates InRelease [128 kB]\n",
            "Get:7 http://security.ubuntu.com/ubuntu jammy-security/restricted amd64 Packages [2,591 kB]\n",
            "Hit:8 https://ppa.launchpadcontent.net/c2d4u.team/c2d4u4.0+/ubuntu jammy InRelease\n",
            "Hit:9 https://ppa.launchpadcontent.net/deadsnakes/ppa/ubuntu jammy InRelease\n",
            "Hit:10 https://ppa.launchpadcontent.net/graphics-drivers/ppa/ubuntu jammy InRelease\n",
            "Get:11 http://security.ubuntu.com/ubuntu jammy-security/universe amd64 Packages [1,125 kB]\n",
            "Get:12 http://security.ubuntu.com/ubuntu jammy-security/main amd64 Packages [1,994 kB]\n",
            "Hit:13 https://ppa.launchpadcontent.net/ubuntugis/ppa/ubuntu jammy InRelease\n",
            "Get:14 http://archive.ubuntu.com/ubuntu jammy-backports InRelease [127 kB]\n",
            "Get:15 http://archive.ubuntu.com/ubuntu jammy-updates/restricted amd64 Packages [2,664 kB]\n",
            "Get:16 http://archive.ubuntu.com/ubuntu jammy-updates/main amd64 Packages [2,258 kB]\n",
            "Get:17 http://archive.ubuntu.com/ubuntu jammy-updates/universe amd64 Packages [1,409 kB]\n",
            "Fetched 13.4 MB in 3s (4,202 kB/s)\n",
            "Reading package lists...\n",
            "Building dependency tree...\n",
            "Reading state information...\n",
            "45 packages can be upgraded. Run 'apt list --upgradable' to see them.\n",
            "Reading package lists...\n",
            "Building dependency tree...\n",
            "Reading state information...\n",
            "The following additional packages will be installed:\n",
            "  apparmor chromium-browser libfuse3-3 liblzo2-2 libudev1 snapd squashfs-tools systemd-hwe-hwdb\n",
            "  udev\n",
            "Suggested packages:\n",
            "  apparmor-profiles-extra apparmor-utils fuse3 zenity | kdialog\n",
            "The following NEW packages will be installed:\n",
            "  apparmor chromium-browser chromium-chromedriver libfuse3-3 liblzo2-2 snapd squashfs-tools\n",
            "  systemd-hwe-hwdb udev\n",
            "The following packages will be upgraded:\n",
            "  libudev1\n",
            "1 upgraded, 9 newly installed, 0 to remove and 44 not upgraded.\n",
            "Need to get 28.5 MB of archives.\n",
            "After this operation, 118 MB of additional disk space will be used.\n",
            "Get:1 http://archive.ubuntu.com/ubuntu jammy-updates/main amd64 apparmor amd64 3.0.4-2ubuntu2.3 [595 kB]\n",
            "Get:2 http://archive.ubuntu.com/ubuntu jammy/main amd64 liblzo2-2 amd64 2.10-2build3 [53.7 kB]\n",
            "Get:3 http://archive.ubuntu.com/ubuntu jammy/main amd64 squashfs-tools amd64 1:4.5-3build1 [159 kB]\n",
            "Get:4 http://archive.ubuntu.com/ubuntu jammy-updates/main amd64 libudev1 amd64 249.11-0ubuntu3.12 [78.2 kB]\n",
            "Get:5 http://archive.ubuntu.com/ubuntu jammy-updates/main amd64 udev amd64 249.11-0ubuntu3.12 [1,557 kB]\n",
            "Get:6 http://archive.ubuntu.com/ubuntu jammy/main amd64 libfuse3-3 amd64 3.10.5-1build1 [81.2 kB]\n",
            "Get:7 http://archive.ubuntu.com/ubuntu jammy-updates/main amd64 snapd amd64 2.63+22.04 [25.9 MB]\n",
            "Get:8 http://archive.ubuntu.com/ubuntu jammy-updates/universe amd64 chromium-browser amd64 1:85.0.4183.83-0ubuntu2.22.04.1 [49.2 kB]\n",
            "Get:9 http://archive.ubuntu.com/ubuntu jammy-updates/universe amd64 chromium-chromedriver amd64 1:85.0.4183.83-0ubuntu2.22.04.1 [2,308 B]\n",
            "Get:10 http://archive.ubuntu.com/ubuntu jammy-updates/main amd64 systemd-hwe-hwdb all 249.11.5 [3,228 B]\n",
            "Fetched 28.5 MB in 3s (10.0 MB/s)\n",
            "Preconfiguring packages ...\n",
            "Selecting previously unselected package apparmor.\n",
            "(Reading database ... 121925 files and directories currently installed.)\n",
            "Preparing to unpack .../apparmor_3.0.4-2ubuntu2.3_amd64.deb ...\n",
            "Unpacking apparmor (3.0.4-2ubuntu2.3) ...\n",
            "Selecting previously unselected package liblzo2-2:amd64.\n",
            "Preparing to unpack .../liblzo2-2_2.10-2build3_amd64.deb ...\n",
            "Unpacking liblzo2-2:amd64 (2.10-2build3) ...\n",
            "Selecting previously unselected package squashfs-tools.\n",
            "Preparing to unpack .../squashfs-tools_1%3a4.5-3build1_amd64.deb ...\n",
            "Unpacking squashfs-tools (1:4.5-3build1) ...\n",
            "Preparing to unpack .../libudev1_249.11-0ubuntu3.12_amd64.deb ...\n",
            "Unpacking libudev1:amd64 (249.11-0ubuntu3.12) over (249.11-0ubuntu3.10) ...\n",
            "Setting up libudev1:amd64 (249.11-0ubuntu3.12) ...\n",
            "Selecting previously unselected package udev.\n",
            "(Reading database ... 122133 files and directories currently installed.)\n",
            "Preparing to unpack .../udev_249.11-0ubuntu3.12_amd64.deb ...\n",
            "Unpacking udev (249.11-0ubuntu3.12) ...\n",
            "Selecting previously unselected package libfuse3-3:amd64.\n",
            "Preparing to unpack .../libfuse3-3_3.10.5-1build1_amd64.deb ...\n",
            "Unpacking libfuse3-3:amd64 (3.10.5-1build1) ...\n",
            "Selecting previously unselected package snapd.\n",
            "Preparing to unpack .../snapd_2.63+22.04_amd64.deb ...\n",
            "Unpacking snapd (2.63+22.04) ...\n",
            "Setting up apparmor (3.0.4-2ubuntu2.3) ...\n",
            "Created symlink /etc/systemd/system/sysinit.target.wants/apparmor.service → /lib/systemd/system/apparmor.service.\n",
            "Setting up liblzo2-2:amd64 (2.10-2build3) ...\n",
            "Setting up squashfs-tools (1:4.5-3build1) ...\n",
            "Setting up udev (249.11-0ubuntu3.12) ...\n",
            "invoke-rc.d: could not determine current runlevel\n",
            "invoke-rc.d: policy-rc.d denied execution of start.\n",
            "Setting up libfuse3-3:amd64 (3.10.5-1build1) ...\n",
            "Setting up snapd (2.63+22.04) ...\n",
            "Created symlink /etc/systemd/system/multi-user.target.wants/snapd.apparmor.service → /lib/systemd/system/snapd.apparmor.service.\n",
            "Created symlink /etc/systemd/system/multi-user.target.wants/snapd.autoimport.service → /lib/systemd/system/snapd.autoimport.service.\n",
            "Created symlink /etc/systemd/system/multi-user.target.wants/snapd.core-fixup.service → /lib/systemd/system/snapd.core-fixup.service.\n",
            "Created symlink /etc/systemd/system/multi-user.target.wants/snapd.recovery-chooser-trigger.service → /lib/systemd/system/snapd.recovery-chooser-trigger.service.\n",
            "Created symlink /etc/systemd/system/multi-user.target.wants/snapd.seeded.service → /lib/systemd/system/snapd.seeded.service.\n",
            "Created symlink /etc/systemd/system/cloud-final.service.wants/snapd.seeded.service → /lib/systemd/system/snapd.seeded.service.\n",
            "Unit /lib/systemd/system/snapd.seeded.service is added as a dependency to a non-existent unit cloud-final.service.\n",
            "Created symlink /etc/systemd/system/multi-user.target.wants/snapd.service → /lib/systemd/system/snapd.service.\n",
            "Created symlink /etc/systemd/system/timers.target.wants/snapd.snap-repair.timer → /lib/systemd/system/snapd.snap-repair.timer.\n",
            "Created symlink /etc/systemd/system/sockets.target.wants/snapd.socket → /lib/systemd/system/snapd.socket.\n",
            "Created symlink /etc/systemd/system/final.target.wants/snapd.system-shutdown.service → /lib/systemd/system/snapd.system-shutdown.service.\n",
            "Selecting previously unselected package chromium-browser.\n",
            "(Reading database ... 122363 files and directories currently installed.)\n",
            "Preparing to unpack .../chromium-browser_1%3a85.0.4183.83-0ubuntu2.22.04.1_amd64.deb ...\n",
            "=> Installing the chromium snap\n",
            "==> Checking connectivity with the snap store\n",
            "===> System doesn't have a working snapd, skipping\n",
            "Unpacking chromium-browser (1:85.0.4183.83-0ubuntu2.22.04.1) ...\n",
            "Selecting previously unselected package chromium-chromedriver.\n",
            "Preparing to unpack .../chromium-chromedriver_1%3a85.0.4183.83-0ubuntu2.22.04.1_amd64.deb ...\n",
            "Unpacking chromium-chromedriver (1:85.0.4183.83-0ubuntu2.22.04.1) ...\n",
            "Selecting previously unselected package systemd-hwe-hwdb.\n",
            "Preparing to unpack .../systemd-hwe-hwdb_249.11.5_all.deb ...\n",
            "Unpacking systemd-hwe-hwdb (249.11.5) ...\n",
            "Setting up systemd-hwe-hwdb (249.11.5) ...\n",
            "Setting up chromium-browser (1:85.0.4183.83-0ubuntu2.22.04.1) ...\n",
            "update-alternatives: using /usr/bin/chromium-browser to provide /usr/bin/x-www-browser (x-www-browser) in auto mode\n",
            "update-alternatives: using /usr/bin/chromium-browser to provide /usr/bin/gnome-www-browser (gnome-www-browser) in auto mode\n",
            "Setting up chromium-chromedriver (1:85.0.4183.83-0ubuntu2.22.04.1) ...\n",
            "Processing triggers for udev (249.11-0ubuntu3.12) ...\n",
            "Processing triggers for hicolor-icon-theme (0.17-2) ...\n",
            "Processing triggers for libc-bin (2.35-0ubuntu3.4) ...\n",
            "/sbin/ldconfig.real: /usr/local/lib/libtbbmalloc.so.2 is not a symbolic link\n",
            "\n",
            "/sbin/ldconfig.real: /usr/local/lib/libtbb.so.12 is not a symbolic link\n",
            "\n",
            "/sbin/ldconfig.real: /usr/local/lib/libtbbmalloc_proxy.so.2 is not a symbolic link\n",
            "\n",
            "/sbin/ldconfig.real: /usr/local/lib/libtbbbind.so.3 is not a symbolic link\n",
            "\n",
            "/sbin/ldconfig.real: /usr/local/lib/libtbbbind_2_5.so.3 is not a symbolic link\n",
            "\n",
            "/sbin/ldconfig.real: /usr/local/lib/libtbbbind_2_0.so.3 is not a symbolic link\n",
            "\n",
            "Processing triggers for man-db (2.10.2-1) ...\n",
            "Processing triggers for dbus (1.12.20-2ubuntu4.1) ...\n",
            "cp: '/usr/lib/chromium-browser/chromedriver' and '/usr/bin/chromedriver' are the same file\n",
            "\u001b[2K     \u001b[90m━━━━━━━━━━━━━━━━━━━━━━━━━━━━━━━━━━━━━━━━\u001b[0m \u001b[32m9.4/9.4 MB\u001b[0m \u001b[31m22.1 MB/s\u001b[0m eta \u001b[36m0:00:00\u001b[0m\n",
            "\u001b[2K     \u001b[90m━━━━━━━━━━━━━━━━━━━━━━━━━━━━━━━━━━━━━━━━\u001b[0m \u001b[32m467.7/467.7 kB\u001b[0m \u001b[31m29.2 MB/s\u001b[0m eta \u001b[36m0:00:00\u001b[0m\n",
            "\u001b[2K     \u001b[90m━━━━━━━━━━━━━━━━━━━━━━━━━━━━━━━━━━━━━━━━\u001b[0m \u001b[32m58.3/58.3 kB\u001b[0m \u001b[31m4.4 MB/s\u001b[0m eta \u001b[36m0:00:00\u001b[0m\n",
            "\u001b[?25h"
          ]
        }
      ],
      "source": [
        "!apt update --quiet\n",
        "!apt install chromium-chromedriver --quiet\n",
        "!cp /usr/lib/chromium-browser/chromedriver /usr/bin\n",
        "!pip install selenium --quiet"
      ]
    },
    {
      "cell_type": "code",
      "execution_count": null,
      "metadata": {
        "id": "Bx-xJhrPcgg9"
      },
      "outputs": [],
      "source": [
        "import selenium\n",
        "from selenium import webdriver\n",
        "from selenium.webdriver.chrome.options import Options"
      ]
    },
    {
      "cell_type": "code",
      "source": [
        "from bs4 import BeautifulSoup, Comment"
      ],
      "metadata": {
        "id": "9B6YKo4bF5lC"
      },
      "execution_count": null,
      "outputs": []
    },
    {
      "cell_type": "code",
      "execution_count": null,
      "metadata": {
        "id": "tqfOyoSscll1"
      },
      "outputs": [],
      "source": [
        "from src.util import ScreenshotTaker, get_thumbnail_for_llava, concat_images_with_line, concat_images_with_line_full_res"
      ]
    },
    {
      "cell_type": "markdown",
      "metadata": {
        "id": "ZhG29HtTc3W2"
      },
      "source": [
        "# Organizing Files"
      ]
    },
    {
      "cell_type": "code",
      "execution_count": null,
      "metadata": {
        "id": "GYn1k9fAc2_S"
      },
      "outputs": [],
      "source": [
        "import os\n",
        "import shutil\n",
        "from tqdm import tqdm\n",
        "\n",
        "def move_files(source_dir, target_dir):\n",
        "    # First, collect all files that will be moved\n",
        "    files_to_move = []\n",
        "    for root, dirs, files in os.walk(source_dir):\n",
        "        for file in files:\n",
        "            if file.startswith('fullres'):\n",
        "                files_to_move.append((root, file))\n",
        "    # Use tqdm to display progress\n",
        "    for root, file in tqdm(files_to_move, desc='Moving files'):\n",
        "        rel_path = os.path.relpath(root, source_dir)\n",
        "        source_file = os.path.join(root, file)\n",
        "        dest_dir = os.path.join(target_dir, rel_path)\n",
        "        dest_file = os.path.join(dest_dir, file)\n",
        "\n",
        "        # Ensure the destination directory exists\n",
        "        if not os.path.exists(dest_dir):\n",
        "            os.makedirs(dest_dir)\n",
        "\n",
        "        # Move the file\n",
        "        shutil.move(source_file, dest_file)"
      ]
    },
    {
      "cell_type": "code",
      "execution_count": null,
      "metadata": {
        "colab": {
          "base_uri": "https://localhost:8080/"
        },
        "id": "UzkfIcQvgxZE",
        "outputId": "603acdf6-aee5-430a-f144-097a83c9b00e"
      },
      "outputs": [
        {
          "output_type": "stream",
          "name": "stderr",
          "text": [
            "Moving files: 100%|██████████| 8515/8515 [00:44<00:00, 192.23it/s]\n"
          ]
        }
      ],
      "source": [
        "# Path to the raw and processed directories\n",
        "source_dir = f\"data/processed/{appname}/screenshots/concat\"\n",
        "target_dir = f\"data/processed/{appname}/screenshots/concat/fullres\"\n",
        "\n",
        "# Call the function to move files\n",
        "#move_files(source_dir, target_dir)"
      ]
    },
    {
      "cell_type": "markdown",
      "metadata": {
        "id": "ZHUOOnaZqSvI"
      },
      "source": [
        "# Screenshots"
      ]
    },
    {
      "cell_type": "code",
      "execution_count": null,
      "metadata": {
        "id": "pj3jREFxqWdl"
      },
      "outputs": [],
      "source": [
        "all_states_df = pd.read_csv(\"data/SS.csv\")"
      ]
    },
    {
      "cell_type": "code",
      "execution_count": null,
      "metadata": {
        "id": "X4d3Jl22tV9B"
      },
      "outputs": [],
      "source": [
        "appname = \"phoenix\""
      ]
    },
    {
      "cell_type": "code",
      "execution_count": null,
      "metadata": {
        "id": "3TA5vO6Ftp55"
      },
      "outputs": [],
      "source": [
        "current_app_states_df = all_states_df[all_states_df['appname'] == appname]"
      ]
    },
    {
      "cell_type": "code",
      "execution_count": null,
      "metadata": {
        "colab": {
          "base_uri": "https://localhost:8080/"
        },
        "id": "PdKtxCvDsmjQ",
        "outputId": "1302e073-f5af-438a-a59e-d92a669a6a67"
      },
      "outputs": [
        {
          "output_type": "stream",
          "name": "stderr",
          "text": [
            "100%|██████████| 167/167 [01:52<00:00,  1.48it/s]\n"
          ]
        }
      ],
      "source": [
        "screenshot_taker = ScreenshotTaker()\n",
        "\n",
        "directory = f\"data/raw/{appname}\"\n",
        "save_to_directory = f\"data/processed/{appname}/screenshots\"\n",
        "\n",
        "for filename in tqdm(os.listdir(directory)):\n",
        "  if filename.endswith(\".html\"):\n",
        "\n",
        "    file_path = os.path.join(directory, filename)\n",
        "\n",
        "    # Extract directory and file parts\n",
        "    filename_with_extension = os.path.basename(file_path)\n",
        "    filename_without_extension, file_extension = os.path.splitext(filename_with_extension)\n",
        "\n",
        "    # Ensure the destination directory exists\n",
        "    if not os.path.exists(save_to_directory):\n",
        "      os.makedirs(save_to_directory)\n",
        "\n",
        "    # Construct the new file path\n",
        "    save_to_path = os.path.join(save_to_directory, f\"{filename_without_extension}.png\")\n",
        "\n",
        "    width, height = screenshot_taker.take_screenshot(file_path, save_to_path)\n",
        "    if width > 667 or height > 336:\n",
        "      get_thumbnail_for_llava(save_to_path)\n",
        "\n",
        "screenshot_taker.close()"
      ]
    },
    {
      "cell_type": "code",
      "execution_count": null,
      "metadata": {
        "colab": {
          "base_uri": "https://localhost:8080/"
        },
        "collapsed": true,
        "id": "VMVD3c2ztFCc",
        "outputId": "f8923396-99cd-4a31-e787-a2a9b5246830"
      },
      "outputs": [
        {
          "output_type": "stream",
          "name": "stderr",
          "text": [
            "100%|██████████| 11175/11175 [08:08<00:00, 22.88it/s]\n"
          ]
        }
      ],
      "source": [
        "images_folder: str = f\"data/processed/{appname}/screenshots\"\n",
        "save_folder: str = f\"data/processed/{appname}/screenshots/concat\"\n",
        "\n",
        "# ensure concat folder exists\n",
        "if not os.path.exists(save_folder):\n",
        "  os.makedirs(save_folder)\n",
        "\n",
        "for index, row in tqdm(current_app_states_df.iterrows(), total=current_app_states_df.shape[0]):\n",
        "\n",
        "  state1_thumb = f\"{images_folder}/{row['state1']}_thumbnail.png\"\n",
        "  state2_thumb = f\"{images_folder}/{row['state2']}_thumbnail.png\"\n",
        "\n",
        "  if not os.path.exists(state1_thumb):\n",
        "    state1_thumb = f\"{images_folder}/{row['state1']}.png\"\n",
        "\n",
        "  if not os.path.exists(state2_thumb):\n",
        "    state2_thumb = f\"{images_folder}/{row['state2']}.png\"\n",
        "\n",
        "  output_path = f\"{save_folder}/concat_{row['state1']}_{row['state2']}.png\"\n",
        "\n",
        "  if not os.path.exists(output_path):\n",
        "    concat_images_with_line(state1_thumb, state2_thumb, output_path)"
      ]
    },
    {
      "cell_type": "code",
      "source": [
        "save_folder: str = f\"data/processed/{appname}/screenshots/concat\"\n",
        "\n",
        "print(os.path.isfile(f\"data/processed/petclinic/screenshots/concat/concat_state518_state714.png\"))"
      ],
      "metadata": {
        "colab": {
          "base_uri": "https://localhost:8080/"
        },
        "id": "YJd3b3GYDI5L",
        "outputId": "55f23004-d507-49e7-ce90-4488cbc57983"
      },
      "execution_count": null,
      "outputs": [
        {
          "output_type": "stream",
          "name": "stdout",
          "text": [
            "True\n"
          ]
        }
      ]
    },
    {
      "cell_type": "code",
      "execution_count": null,
      "metadata": {
        "colab": {
          "background_save": true,
          "base_uri": "https://localhost:8080/"
        },
        "id": "INp3XQGC5uTf",
        "outputId": "46b37a30-d7a6-4872-a361-ddfe7e452bb0"
      },
      "outputs": [
        {
          "name": "stderr",
          "output_type": "stream",
          "text": [
            "100%|██████████| 8515/8515 [43:15<00:00,  3.28it/s]\n"
          ]
        }
      ],
      "source": [
        "images_folder: str = f\"data/processed/{appname}/screenshots\"\n",
        "save_folder: str = f\"data/processed/{appname}/screenshots/concat\"\n",
        "\n",
        "# ensure concat folder exists\n",
        "if not os.path.exists(save_folder):\n",
        "  os.makedirs(save_folder)\n",
        "\n",
        "for index, row in tqdm(current_app_states_df.iterrows(), total=current_app_states_df.shape[0]):\n",
        "\n",
        "  state1_thumb = f\"{images_folder}/{row['state1']}.png\"\n",
        "  state2_thumb = f\"{images_folder}/{row['state2']}.png\"\n",
        "\n",
        "  output_path = f\"{save_folder}/fullres_concat_{row['state1']}_{row['state2']}.png\"\n",
        "\n",
        "  concat_images_with_line_full_res(state1_thumb, state2_thumb, output_path)"
      ]
    },
    {
      "cell_type": "markdown",
      "source": [
        "# HTML Preprocessing"
      ],
      "metadata": {
        "id": "9KdnNhUBGAuC"
      }
    },
    {
      "cell_type": "code",
      "source": [
        "def remove_long_comments_and_tags(html, max_length=50):\n",
        "    soup = BeautifulSoup(html, 'html.parser')\n",
        "\n",
        "    # Remove long comments\n",
        "    comments = soup.find_all(string=lambda text: isinstance(text, Comment))\n",
        "    for comment in comments:\n",
        "        if len(comment) > max_length:\n",
        "            comment.extract()\n",
        "\n",
        "    # Remove specified tags\n",
        "    for tag in soup([\"style\", \"meta\", \"script\"]):\n",
        "        tag.extract()\n",
        "\n",
        "    # Remove class attributes from all tags\n",
        "    for tag in soup.find_all():\n",
        "        if 'class' in tag.attrs:\n",
        "            del tag.attrs['class']\n",
        "        if 'style' in tag.attrs:\n",
        "            del tag.attrs['style']\n",
        "        if 'data-reactid' in tag.attrs:\n",
        "            del tag.attrs['data-reactid']\n",
        "\n",
        "    # Extract only the body content, prettify and return it\n",
        "    return soup.body.prettify()"
      ],
      "metadata": {
        "id": "dzcIoeF3LuUZ"
      },
      "execution_count": null,
      "outputs": []
    },
    {
      "cell_type": "code",
      "source": [
        "def get_content_from_html(html):\n",
        "    soup = BeautifulSoup(html, 'html.parser')\n",
        "\n",
        "    text = soup.getText()\n",
        "\n",
        "    return ' '.join(text.split())"
      ],
      "metadata": {
        "id": "UMuVcTePk6Pf"
      },
      "execution_count": null,
      "outputs": []
    },
    {
      "cell_type": "code",
      "source": [
        "html_folder: str = f\"data/raw/{appname}\"\n",
        "target_folder: str = f\"data/processed/{appname}/\"\n",
        "\n",
        "if not os.path.exists(target_folder):\n",
        "        os.makedirs(target_folder)\n",
        "\n",
        "# Loop over all files in the source folder\n",
        "for filename in tqdm(os.listdir(html_folder)):\n",
        "    if filename.endswith(\".html\"):\n",
        "        # Construct full file path\n",
        "        source_file_path = os.path.join(html_folder, filename)\n",
        "        target_file_path = os.path.join(target_folder, f\"{filename}.body.nostyle.noscript.nometa.nolongcomment\")\n",
        "\n",
        "        # Read the HTML file\n",
        "        with open(source_file_path, 'r', encoding='utf-8') as file:\n",
        "            html_content = file.read()\n",
        "\n",
        "        # Clean the HTML content\n",
        "        cleaned_html = remove_long_comments_and_tags(html_content)\n",
        "\n",
        "        # Save the cleaned HTML to new file in target folder\n",
        "        with open(target_file_path, 'w', encoding='utf-8') as file:\n",
        "            file.write(cleaned_html)"
      ],
      "metadata": {
        "colab": {
          "base_uri": "https://localhost:8080/"
        },
        "id": "5c9yIug-L8Qn",
        "outputId": "8e1aad3b-030f-4ae9-a48b-ecc113225d21"
      },
      "execution_count": null,
      "outputs": [
        {
          "output_type": "stream",
          "name": "stderr",
          "text": [
            "100%|██████████| 167/167 [00:08<00:00, 19.32it/s]\n"
          ]
        }
      ]
    },
    {
      "cell_type": "code",
      "source": [
        "print(os.path.isfile(f\"data/processed/phoenix/state123.html.body.nostyle.noscript.nometa.nolongcomment.data-reactid\"))"
      ],
      "metadata": {
        "colab": {
          "base_uri": "https://localhost:8080/"
        },
        "id": "X94kSOOErv1R",
        "outputId": "d9e78813-fb21-4ab7-b29a-9573df5aa89b"
      },
      "execution_count": null,
      "outputs": [
        {
          "output_type": "stream",
          "name": "stdout",
          "text": [
            "True\n"
          ]
        }
      ]
    },
    {
      "cell_type": "code",
      "execution_count": null,
      "metadata": {
        "id": "eYkoTTli8nmd"
      },
      "outputs": [],
      "source": [
        "html_folder: str = f\"data/raw/{appname}\"\n",
        "\n",
        "# Opening the html file\n",
        "HTMLFile = open(f\"{html_folder}/state10.html\", \"r\")\n",
        "\n",
        "# Reading the file\n",
        "html_content = HTMLFile.read()\n",
        "\n",
        "cleaned_html = remove_long_comments_and_tags(html_content)\n",
        "\n",
        "print(cleaned_html)\n",
        "print(len(cleaned_html))"
      ]
    }
  ],
  "metadata": {
    "colab": {
      "provenance": []
    },
    "kernelspec": {
      "display_name": "Python 3",
      "name": "python3"
    },
    "language_info": {
      "name": "python"
    }
  },
  "nbformat": 4,
  "nbformat_minor": 0
}